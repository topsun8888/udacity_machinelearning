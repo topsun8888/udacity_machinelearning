{
 "cells": [
  {
   "cell_type": "markdown",
   "metadata": {},
   "source": [
    "\n",
    "\n",
    "上次授课简单地介绍了优达学城机器学习课程框架、先修基础知识、编程环境配置以及常用的工具包等。本次课程主要介绍机器学习知识应用所涉及到的指标选择、验证评估方法以及常用的流程。"
   ]
  },
  {
   "cell_type": "markdown",
   "metadata": {},
   "source": [
    "## 一、模型评估指标\n",
    "\n",
    "我们在建立机器学习模型时，需要明确“怎样判断模型好与否？什么时候可以停止优化模型？”，这时候需要选择合适的评估指标(evaluation metrics)，来度量模型优劣的衡量值。不同的模型适用于不同的评估指标，下面主要围绕监督学习里面的分类模型和回归模型来介绍。"
   ]
  },
  {
   "cell_type": "markdown",
   "metadata": {},
   "source": [
    "### 1.分类模型指标\n",
    "\n",
    "分类问题是通过输入数据预测类型标签(label)，其结果是离散值。比如垃圾邮件分类就是一个二元分类问题，邮件或者被模型预测为“垃圾邮件”，或者“不是垃圾邮件”。分类问题常用的指标有准确度、混淆矩阵(confusion matrix）等，具体举例来说明（引用自Derek示例）。\n",
    "\n",
    "```\n",
    "假如某个医院有100个人待诊，其中20个人是病患，其他80人均是正常。医生目标是找出所有病患，假设病患标签为阳性\"positive\"，正常人标签为阴性\"negative\"。现在某医生用某检测方法发现50个人呈阳性反映,其中20人是真正病患,另外还错误的把30个正常人也当作病患挑选出来了. 作为评估者的你需要来评估(evaluation)下他的工作.\n",
    "```\n"
   ]
  },
  {
   "cell_type": "markdown",
   "metadata": {},
   "source": [
    "- 准确度（accuracy）：对于给定的测试数据集，分类器正确分类的样本数与总样本数之比[参见李航《统计学习方法》]。\n",
    "$accuracy = \\frac {correct_predictions}{total_data_points}$，比如刚才100人中，50人呈阳性反应，剩下50人是阴性，阳性中病患是20人，阴性中判定正确的是50人，总共正确的是（20 + 50） = 70人，30名正常人错分为病患，准确率则为70%。由准确率，我们的确可以在一些场合，从某种意义上得到一个分类器是否有效，但它并不总是能有效的评价一个分类器的工作[ARGCV](https://argcv.com/articles/1036.c)。比如，在疾病检测中，如果人群中某种疾病的发病率只有0.1%，即使医生直接将所有病人都预测为阴性，其准确度也能达到99.9%，但是这样就会使很多真正患病的病人错过最佳治疗时机。所以又提出了精准率(precision)、召回率（recall）等指标。"
   ]
  },
  {
   "cell_type": "markdown",
   "metadata": {},
   "source": [
    "![image](pic/precision&recall.png)"
   ]
  },
  {
   "cell_type": "markdown",
   "metadata": {},
   "source": [
    "上图中（引用自[维基百科](https://en.wikipedia.org/wiki/Precision_and_recall))，TP表示病人判断为阳性，例子中就是正确的判定\"这位是病人\"；FN表示假阴性，阳性判定为阴性，即病患判定为正常人；FP表示假阳性，阴性判断为阳性，也就是正常人错判为病患；TN，阴性判断为阴性，这里就是正常热被判断为正常人。\n",
    "- 精准率（precision)：$P=\\frac{TP}{TP+FP}$，阳性占判定为阳性数的比例。在这个例子中就是诊断正确病患数占呈阳性反应人数比例，正确判断的病患TP=20，假阳性FP=30，那么精准率就是20/(20+30)=40%。理想的精准率为1.\n",
    "\n",
    "- 召回率（recall）：$R=\\frac{TP}{TP+FN}$，正确判定的阳性占实际上阳性数的比例。再这个例子中就是正确检测出来病患数量占所实际病患总数的比例，正确判断的病患TP=20，假阴性FN=0，召回率即为100%。理想的召回率为1。\n",
    "\n",
    "- F1值：$F1 = \\frac{2 \\cdot precision \\cdot recall}{precision + recall}$，F1值就是精确值和召回率的调和均值，这里$2*0.4*1/(1+0.4)=4/7$。\n"
   ]
  },
  {
   "cell_type": "code",
   "execution_count": 88,
   "metadata": {
    "collapsed": false
   },
   "outputs": [
    {
     "name": "stdout",
     "output_type": "stream",
     "text": [
      "(u'Patient Status:', array([ 1.,  1.,  1.,  1.,  0.,  1.,  0.,  1.,  1.,  0.,  1.,  1.,  1.,\n",
      "        0.,  0.,  1.,  0.,  1.,  1.,  1.,  1.,  0.,  1.,  1.,  1.,  0.,\n",
      "        1.,  1.,  1.,  1.,  1.,  0.,  0.,  1.,  1.,  1.,  0.,  1.,  1.,\n",
      "        0.,  0.,  1.,  1.,  1.,  1.,  1.,  0.,  1.,  1.,  1.,  0.,  1.,\n",
      "        0.,  1.,  1.,  1.,  1.,  1.,  1.,  0.,  1.,  1.,  1.,  1.,  1.,\n",
      "        1.,  1.,  1.,  1.,  1.,  1.,  1.,  1.,  1.,  1.,  1.,  1.,  1.,\n",
      "        1.,  1.,  0.,  1.,  1.,  1.,  1.,  1.,  1.,  1.,  1.,  1.,  1.,\n",
      "        1.,  0.,  1.,  1.,  1.,  1.,  1.,  0.,  1.]))\n",
      "(u'Predicted Status:', array([ 1.,  0.,  1.,  0.,  0.,  0.,  0.,  0.,  0.,  0.,  1.,  1.,  1.,\n",
      "        0.,  0.,  0.,  0.,  0.,  1.,  1.,  0.,  0.,  1.,  0.,  1.,  0.,\n",
      "        0.,  1.,  1.,  1.,  1.,  0.,  0.,  0.,  0.,  1.,  0.,  1.,  1.,\n",
      "        0.,  0.,  1.,  1.,  1.,  1.,  0.,  0.,  0.,  1.,  1.,  0.,  1.,\n",
      "        0.,  1.,  1.,  0.,  1.,  0.,  1.,  0.,  1.,  1.,  1.,  1.,  1.,\n",
      "        1.,  1.,  1.,  1.,  1.,  1.,  0.,  1.,  1.,  1.,  1.,  0.,  0.,\n",
      "        1.,  0.,  0.,  1.,  0.,  0.,  0.,  0.,  1.,  0.,  1.,  1.,  0.,\n",
      "        0.,  0.,  1.,  1.,  0.,  0.,  1.,  0.,  0.]))\n"
     ]
    }
   ],
   "source": [
    "#创建100个病人状态和预测状态\n",
    "import numpy as np\n",
    "np.random.seed(2)\n",
    "index = np.arange(100)\n",
    "np.random.shuffle(index)\n",
    "patient_status = np.ones(100)\n",
    "patient_pred = np.ones(100)\n",
    "patient_status[:20] = 0\n",
    "patient_pred[:50] = 0\n",
    "patient_pred, patient_status = patient_pred[index], patient_status[index]\n",
    "print(u'Patient Status:', patient_status)#20个病人\n",
    "print(u'Predicted Status:', patient_pred)#医生预测的结果"
   ]
  },
  {
   "cell_type": "code",
   "execution_count": 89,
   "metadata": {
    "collapsed": false
   },
   "outputs": [
    {
     "name": "stdout",
     "output_type": "stream",
     "text": [
      "('Accuracy:', 0.69999999999999996)\n",
      "('Precision:', 1.0)\n",
      "('Recall:', 0.625)\n",
      "('Confusion_matrix:', array([[20,  0],\n",
      "       [30, 50]]))\n"
     ]
    }
   ],
   "source": [
    "accuracy = metrics.accuracy_score(patient_status, patient_pred)#准确度\n",
    "precision = metrics.precision_score(patient_status, patient_pred)#精准度\n",
    "recall = metrics.recall_score(patient_status, patient_pred)#召回率\n",
    "confusion_matrix = metrics.confusion_matrix(patient_status, patient_pred)#混淆矩阵\n",
    "print('Accuracy:', accuracy)\n",
    "print('Precision:', precision)\n",
    "print('Recall:', recall)\n",
    "print('Confusion_matrix:', confusion_matrix)"
   ]
  },
  {
   "cell_type": "markdown",
   "metadata": {},
   "source": [
    "- 混淆矩阵（confusion matrix）：在机器学习领域，混淆矩阵又称为可能性表格或是错误矩阵。它是一种特定的矩阵用来呈现算法性能的可视化效果，通常是监督学习。其每一列代表预测值，每一行代表的是实际的类别。这个名字来源于它可以非常容易的表明多个类别是否有混淆（也就是一个class被预测成另一个class）[引用自[cnblog](http://blog.csdn.net/vesper305/article/details/44927047)]。如下图:\n",
    "![confusion_matrix](pic/confusionmatrix.png)"
   ]
  },
  {
   "cell_type": "markdown",
   "metadata": {},
   "source": [
    "上图中，实际上有8只猫，但是只判定正确了5只，有三只被判定成了狗；实际上6只狗，2只被判定成了猫，1只被判定成了兔子；13只兔子，2只被判定成了狗，其他都判定正确。其他常用的指标还有ROC和AUC，有兴趣的可参看[相关的文档](https://www.douban.com/note/284051363/)。下面是个例子："
   ]
  },
  {
   "cell_type": "code",
   "execution_count": 74,
   "metadata": {
    "collapsed": true
   },
   "outputs": [],
   "source": [
    "#引用自http://www.cnblogs.com/itdyb/p/5833352.html\n",
    "from sklearn import datasets\n",
    "####加载数据集\n",
    "iris = datasets.load_iris()"
   ]
  },
  {
   "cell_type": "code",
   "execution_count": 76,
   "metadata": {
    "collapsed": false
   },
   "outputs": [
    {
     "name": "stdout",
     "output_type": "stream",
     "text": [
      "['sepal length (cm)', 'sepal width (cm)', 'petal length (cm)', 'petal width (cm)']\n",
      "******************************\n",
      "Feature Values:\n",
      "[[ 5.1  3.5  1.4  0.2]\n",
      " [ 4.9  3.   1.4  0.2]\n",
      " [ 4.7  3.2  1.3  0.2]\n",
      " [ 4.6  3.1  1.5  0.2]\n",
      " [ 5.   3.6  1.4  0.2]\n",
      " [ 5.4  3.9  1.7  0.4]]\n",
      "******************************\n",
      "Target Label:\n",
      "['setosa' 'versicolor' 'virginica']\n"
     ]
    }
   ],
   "source": [
    "print(iris.feature_names)\n",
    "print('*'*30)\n",
    "print(\"Feature Values:\")\n",
    "print(iris_data[:6])\n",
    "print('*'*30)\n",
    "print('Target Label:')\n",
    "print(iris.target_names)\n"
   ]
  },
  {
   "cell_type": "code",
   "execution_count": 108,
   "metadata": {
    "collapsed": true
   },
   "outputs": [],
   "source": [
    "###训练模型\n",
    "#将数据分为训练集和测试集\n",
    "from sklearn.model_selection import train_test_split\n",
    "iris_train, iris_test, target_train, target_test = train_test_split(\n",
    "    iris.data, iris.target, test_size=0.5, random_state=42)\n",
    "#利用逻辑回归\n",
    "from sklearn import linear_model\n",
    "regr=linear_model.LogisticRegression()\n",
    "regr.fit(iris_train, target_train)\n",
    "#预测\n",
    "prediction = regr.predict(iris_test)"
   ]
  },
  {
   "cell_type": "code",
   "execution_count": 109,
   "metadata": {
    "collapsed": false
   },
   "outputs": [],
   "source": [
    "#计算各类指标\n",
    "from sklearn import metrics\n",
    "accuracy = metrics.accuracy_score(prediction, target_test)#正确度\n",
    "confusion_matrix = metrics.confusion_matrix(prediction, target_test)#混淆矩阵"
   ]
  },
  {
   "cell_type": "code",
   "execution_count": 110,
   "metadata": {
    "collapsed": false
   },
   "outputs": [
    {
     "name": "stdout",
     "output_type": "stream",
     "text": [
      "('Accuracy:', 0.97333333333333338)\n",
      "('Confusion_matrix:', array([[29,  0,  0],\n",
      "       [ 0, 21,  0],\n",
      "       [ 0,  2, 23]]))\n"
     ]
    }
   ],
   "source": [
    "print('Accuracy:', accuracy)\n",
    "print('Confusion_matrix:', confusion_matrix)"
   ]
  },
  {
   "cell_type": "markdown",
   "metadata": {},
   "source": [
    "### 2.回归模型指标\n",
    "回归模型就是通过输入特征数据预测其输出，输出值是连续类型的。比如房价预测可以是100万到200万之间任意一个数值。\n",
    "- 均方误差(mean squared error)：$\\sum_{i=1}^{n}(\\hat y_i - y_i)^2/n$，也就是预测值与实际值差平方和的平均值。比较常用的回归指标，但是对异常点比较敏感。\n",
    "- 平均绝对误差(mean absolute error):$\\sum_{i=1}^n |\\hat y_i - y_i|/n$,也就是预测值与实际值差绝对值的平均值。\n",
    "- 决定系数R^2：表示目标值方差多大程度上可以由属性值方差来预测。其区间通常在（0,1）之间。0表示还不如什么都不预测，直接取均值的情况，而1表示所有预测跟真实结果完美匹配的情况。\n",
    "$R^2 = 1 - \\frac {SS_{res}}{SS_{tot}}$"
   ]
  },
  {
   "cell_type": "code",
   "execution_count": 90,
   "metadata": {
    "collapsed": false
   },
   "outputs": [
    {
     "data": {
      "text/plain": [
       "(442L, 10L)"
      ]
     },
     "execution_count": 90,
     "metadata": {},
     "output_type": "execute_result"
    }
   ],
   "source": [
    "####加载数据集\n",
    "import numpy as np\n",
    "diabetes=datasets.load_diabetes()\n",
    "diabetes.data.shape"
   ]
  },
  {
   "cell_type": "code",
   "execution_count": 91,
   "metadata": {
    "collapsed": false
   },
   "outputs": [],
   "source": [
    "####加载数据集\n",
    "diabetes=datasets.load_diabetes()\n",
    "####数据划分训练集和测试集\n",
    "X_train, X_test, y_train, y_test = train_test_split(diabetes.data, \n",
    "                                                    diabetes.target, test_size=0.3, random_state=1)\n",
    "\n",
    "###训练模型\n",
    "from sklearn import tree\n",
    "#训练指标为mse\n",
    "regr=tree.DecisionTreeRegressor(criterion='mse', random_state=1)\n",
    "regr.fit(X_train, y_train)\n",
    "prediction = regr.predict(X_test)"
   ]
  },
  {
   "cell_type": "code",
   "execution_count": 92,
   "metadata": {
    "collapsed": false
   },
   "outputs": [
    {
     "name": "stdout",
     "output_type": "stream",
     "text": [
      "Mean Absolute Error:\n",
      "69.519\n",
      "Mean Squared Error:\n",
      "7870.992\n",
      "R2:\n",
      "-0.698\n"
     ]
    }
   ],
   "source": [
    "###计算指标值\n",
    "from sklearn.metrics import mean_absolute_error\n",
    "from sklearn.metrics import mean_squared_error\n",
    "from sklearn.metrics import r2_score\n",
    "metrics = [mean_absolute_error, mean_squared_error, r2_score]\n",
    "values = [metric(prediction, y_test) for metric in metrics]\n",
    "print('Mean Absolute Error:')\n",
    "print(round(values[0], 3))\n",
    "print('Mean Squared Error:')\n",
    "print(round(values[1], 3))\n",
    "print('R2:')\n",
    "print(round(values[2], 3))"
   ]
  },
  {
   "cell_type": "markdown",
   "metadata": {},
   "source": [
    "### 3.过拟合&欠拟合\n",
    "\n",
    "\n",
    "首先介绍偏差(bias)和方差(variance)的概念。\n",
    "bias和variance分别从两个方面来描述了我们学习到的模型与真实模型之间的差距。Bias是 “用所有可能的训练数据集训练出的所有模型的输出的平均值” 与 “真实模型”的输出值之间的差异；Variance则是“不同的训练数据集训练出的模型”的输出值之间的差异，知乎链接：https://www.zhihu.com/question/27068705/answer/82132134。\n",
    "\n",
    "机器学习中，欠拟合指的是模型训练指标值和预测指标值都比较差，过拟合指的是模型在训练数据上表现很好而在测试数据上表现很差。以下是知乎[一篇帖子](https://www.zhihu.com/question/27068705/answer/35151681)上的示意图。\n",
    "![bias_variance](pic/error.png)\n",
    "\n",
    "再看三张图片，这三张图片是线性回归模型 拟合的函数和训练集的关系\n",
    "\n",
    "- 第一张图片拟合的函数和训练集误差较大，我们称这种情况为 欠拟合\n",
    "- 第二张图片拟合的函数和训练集误差较小，我们称这种情况为 合适拟合\n",
    "- 第三张图片拟合的函数完美的匹配训练集数据，我们称这种情况为 过拟合\n",
    "![underfitting_overfitting](pic/overfitting.png)\n",
    "![underfitting_overfitting](pic/overfitting2.png)\n",
    "![underfitting_overfitting](pic/overfitting3.png)"
   ]
  },
  {
   "cell_type": "markdown",
   "metadata": {},
   "source": [
    "## 二、模型验证方法\n",
    "\n",
    "模型训练是基于训练集数据来优化目标函数，如果我们把已有的所有数据全部当成训练集进行训练，可能最后的训练指标值效果很好，但是不了解其在未知数据上的表现。经验的做法就是在其他独立数据上检验已训练好的模型的泛化能力。"
   ]
  },
  {
   "cell_type": "markdown",
   "metadata": {},
   "source": [
    "### 1.Holdout验证\n",
    "\n",
    "将原始数据随机分为两组,一组做为训练集,一组做为验证集,利用训练集训练分类器,然后利用验证集验证模型,记录最后的分类准确率为此Hold-OutMethod下分类器的性能指标.此种方法的好处的处理简单,只需随机把原始数据分为两组即可,其实严格意义来说Hold-Out Method并不能算是CV,因为这种方法没有达到交叉的思想,由于是随机的将原始数据分组,所以最后验证集分类准确率的高低与原始数据的分组有很大的关系,所以这种方法得到的结果其实并不具有说服性[[CSDN博客](http://blog.csdn.net/chl033/article/details/4671750)]。"
   ]
  },
  {
   "cell_type": "code",
   "execution_count": null,
   "metadata": {
    "collapsed": true
   },
   "outputs": [],
   "source": [
    "####数据划分训练集和测试集\n",
    "X_train, X_test, y_train, y_test = train_test_split(diabetes.data, \n",
    "                                                    diabetes.target, test_size=0.3, random_state=1)"
   ]
  },
  {
   "cell_type": "markdown",
   "metadata": {},
   "source": [
    "### 2.交叉验证\n",
    "\n",
    "将原始数据分成K组(一般是均分)，将每个子集数据分别做一次验证集，其余的K-1组子集数据作为训练集，这样会得到K个模型，用这K个模型最终的验证集的分类准确率的平均数作为此K-CV下分类器的性能指标。K一般大于等于2，实际操作时一般从3开始取，只有在原始数据集合数据量小的时候才会尝试取2。K-CV可以有效的避免过学习以及欠学习状态的发，最后得到的结果也比较具有说服性。\n",
    "![cross_validation](pic/cross_validation2.jpg)"
   ]
  },
  {
   "cell_type": "code",
   "execution_count": 93,
   "metadata": {
    "collapsed": true
   },
   "outputs": [],
   "source": [
    "#输出指标值\n",
    "def OutputMetrics(values):\n",
    "    print('*'*40)\n",
    "    print('Mean Absolute Error:')\n",
    "    print(round(values[0], 3))\n",
    "    print('Mean Squared Error:')\n",
    "    print(round(values[1], 3))\n",
    "    print('R2:')\n",
    "    print(round(values[2], 3))"
   ]
  },
  {
   "cell_type": "code",
   "execution_count": 100,
   "metadata": {
    "collapsed": false
   },
   "outputs": [
    {
     "name": "stdout",
     "output_type": "stream",
     "text": [
      "****************************************\n",
      "Mean Absolute Error:\n",
      "65.584\n",
      "Mean Squared Error:\n",
      "6430.528\n",
      "R2:\n",
      "-0.096\n",
      "****************************************\n",
      "Mean Absolute Error:\n",
      "61.787\n",
      "Mean Squared Error:\n",
      "6138.326\n",
      "R2:\n",
      "0.005\n",
      "****************************************\n",
      "Mean Absolute Error:\n",
      "62.989\n",
      "Mean Squared Error:\n",
      "6060.557\n",
      "R2:\n",
      "-0.017\n",
      "****************************************\n",
      "Mean Absolute Error:\n",
      "68.0\n",
      "Mean Squared Error:\n",
      "7374.409\n",
      "R2:\n",
      "-0.175\n",
      "****************************************\n",
      "Mean Absolute Error:\n",
      "65.0\n",
      "Mean Squared Error:\n",
      "7086.705\n",
      "R2:\n",
      "-0.33\n"
     ]
    }
   ],
   "source": [
    "#选取K折交叉\n",
    "from sklearn.model_selection import KFold\n",
    "kf = KFold(n_splits=5, random_state=2, shuffle=True)\n",
    "regr=tree.DecisionTreeRegressor(random_state=1)\n",
    "#将样本分成5份，依次留一份作为验证数据集，其他作为测试数据集\n",
    "for train_index, test_index in kf.split(diabetes.data):\n",
    "    X_train, X_test = diabetes.data[train_index], diabetes.data[test_index]\n",
    "    y_train, y_test = diabetes.target[train_index], diabetes.target[test_index]  \n",
    "    #训练模型\n",
    "    regr.fit(X_train, y_train)\n",
    "    prediction = regr.predict(X_test) \n",
    "    values = [metric(prediction, y_test) for metric in metrics]\n",
    "    OutputMetrics(values)"
   ]
  },
  {
   "cell_type": "code",
   "execution_count": 105,
   "metadata": {
    "collapsed": false
   },
   "outputs": [
    {
     "data": {
      "text/plain": [
       "array([ 61.62921348,  66.93258427,  63.54545455,  58.14772727,  68.53409091])"
      ]
     },
     "execution_count": 105,
     "metadata": {},
     "output_type": "execute_result"
    }
   ],
   "source": [
    "#更简单的方法\n",
    "from sklearn.model_selection import cross_val_score\n",
    "from sklearn.metrics import mean_absolute_error, make_scorer\n",
    "clf = regr#还是用前面的决策树模型\n",
    "scoring = make_scorer(mean_absolute_error)#定义指标\n",
    "scores = cross_val_score(clf, diabetes.data, diabetes.target, cv=5, scoring=scoring)\n",
    "scores"
   ]
  },
  {
   "cell_type": "markdown",
   "metadata": {},
   "source": [
    "## 三、网格搜索\n",
    "\n",
    "网格搜索（grid search）是一种搜索方法，通过搜寻参数空间找出使指标值最大化的参数组合。这里的参数实际上是超参数(hyperparameter)，比如在回归中$Y = WX$，写成$y = w_1x_1 + w_2x_2+w_3x_3+w_0$，我们求解的参数是每个变量$x_i$对应的权重$w_i$，但是模型最高次数是1次还是2次这就是超参数；神经网络中，我们需要求解的参数是每个神经元网络节点的权重，但是网络的层数、神经元的个数也是未知的、需要预先指定，这些就是超参数。具体可参考Alice Zheng的新书《Evaluating Machine Learning Models》\n",
    "\n",
    "![neuralnetwork](pic/neuralnetworks.png)"
   ]
  },
  {
   "cell_type": "code",
   "execution_count": 111,
   "metadata": {
    "collapsed": false
   },
   "outputs": [
    {
     "data": {
      "text/plain": [
       "1.0"
      ]
     },
     "execution_count": 111,
     "metadata": {},
     "output_type": "execute_result"
    }
   ],
   "source": [
    "from sklearn.model_selection import GridSearchCV\n",
    "parameters = {'kernel':('linear', 'rbf'), 'C':[1, 5, 10]}\n",
    "####数据划分训练集和测试集\n",
    "X_train, X_test, y_train, y_test = train_test_split(iris.data, \n",
    "                                                    iris.target, test_size=0.3, random_state=1)\n",
    "svr = svm.SVC()\n",
    "clf = GridSearchCV(svr, parameters)\n",
    "clf.fit(X_train, y_train)\n",
    "metrics.accuracy_score(clf.predict(X_test), y_test)"
   ]
  },
  {
   "cell_type": "code",
   "execution_count": 112,
   "metadata": {
    "collapsed": false
   },
   "outputs": [
    {
     "data": {
      "text/plain": [
       "SVC(C=1.0, cache_size=200, class_weight=None, coef0=0.0,\n",
       "  decision_function_shape=None, degree=3, gamma='auto', kernel='rbf',\n",
       "  max_iter=-1, probability=False, random_state=None, shrinking=True,\n",
       "  tol=0.001, verbose=False)"
      ]
     },
     "execution_count": 112,
     "metadata": {},
     "output_type": "execute_result"
    }
   ],
   "source": [
    "#最终挑选出来的参数\n",
    "clf.estimator"
   ]
  },
  {
   "cell_type": "markdown",
   "metadata": {},
   "source": [
    "最终挑选出来的参数C=1，kernel=‘rbf'。"
   ]
  },
  {
   "cell_type": "markdown",
   "metadata": {},
   "source": [
    "## 四、机器学习应用流程\n",
    "\n",
    "我们在应用机器学习技术解决实际问题时，可能没有现成的数据、整洁的数据，也没有指定的模型，也不知怎样的结果才能达到要求。这里介绍一个通用的工作流程，关于数据处理方面可以参考下印度Analytics Vidhya的[博客](https://www.analyticsvidhya.com/blog/2016/01/guide-data-exploration/)。\n",
    "\n",
    "### 1. 数据获取\n",
    "\n",
    "数据获取的途径有很多，可以直接利用sklearn里面现成的数据包，也可以从政府、教育或者数据科学网站如Kaggle网站上下载，还可以从网站上爬取（参加[scrapy](https://scrapy.org/))。下面的数据是从机器学习P0项目里面下载的。"
   ]
  },
  {
   "cell_type": "code",
   "execution_count": 188,
   "metadata": {
    "collapsed": false
   },
   "outputs": [
    {
     "data": {
      "text/html": [
       "<div>\n",
       "<table border=\"1\" class=\"dataframe\">\n",
       "  <thead>\n",
       "    <tr style=\"text-align: right;\">\n",
       "      <th></th>\n",
       "      <th>Pclass</th>\n",
       "      <th>Name</th>\n",
       "      <th>Sex</th>\n",
       "      <th>Age</th>\n",
       "      <th>SibSp</th>\n",
       "      <th>Parch</th>\n",
       "      <th>Ticket</th>\n",
       "      <th>Fare</th>\n",
       "      <th>Cabin</th>\n",
       "      <th>Embarked</th>\n",
       "    </tr>\n",
       "    <tr>\n",
       "      <th>PassengerId</th>\n",
       "      <th></th>\n",
       "      <th></th>\n",
       "      <th></th>\n",
       "      <th></th>\n",
       "      <th></th>\n",
       "      <th></th>\n",
       "      <th></th>\n",
       "      <th></th>\n",
       "      <th></th>\n",
       "      <th></th>\n",
       "    </tr>\n",
       "  </thead>\n",
       "  <tbody>\n",
       "    <tr>\n",
       "      <th>1</th>\n",
       "      <td>3</td>\n",
       "      <td>Braund, Mr. Owen Harris</td>\n",
       "      <td>male</td>\n",
       "      <td>22.0</td>\n",
       "      <td>1</td>\n",
       "      <td>0</td>\n",
       "      <td>A/5 21171</td>\n",
       "      <td>7.2500</td>\n",
       "      <td>NaN</td>\n",
       "      <td>S</td>\n",
       "    </tr>\n",
       "    <tr>\n",
       "      <th>2</th>\n",
       "      <td>1</td>\n",
       "      <td>Cumings, Mrs. John Bradley (Florence Briggs Th...</td>\n",
       "      <td>female</td>\n",
       "      <td>38.0</td>\n",
       "      <td>1</td>\n",
       "      <td>0</td>\n",
       "      <td>PC 17599</td>\n",
       "      <td>71.2833</td>\n",
       "      <td>C85</td>\n",
       "      <td>C</td>\n",
       "    </tr>\n",
       "    <tr>\n",
       "      <th>3</th>\n",
       "      <td>3</td>\n",
       "      <td>Heikkinen, Miss. Laina</td>\n",
       "      <td>female</td>\n",
       "      <td>26.0</td>\n",
       "      <td>0</td>\n",
       "      <td>0</td>\n",
       "      <td>STON/O2. 3101282</td>\n",
       "      <td>7.9250</td>\n",
       "      <td>NaN</td>\n",
       "      <td>S</td>\n",
       "    </tr>\n",
       "    <tr>\n",
       "      <th>4</th>\n",
       "      <td>1</td>\n",
       "      <td>Futrelle, Mrs. Jacques Heath (Lily May Peel)</td>\n",
       "      <td>female</td>\n",
       "      <td>35.0</td>\n",
       "      <td>1</td>\n",
       "      <td>0</td>\n",
       "      <td>113803</td>\n",
       "      <td>53.1000</td>\n",
       "      <td>C123</td>\n",
       "      <td>S</td>\n",
       "    </tr>\n",
       "    <tr>\n",
       "      <th>5</th>\n",
       "      <td>3</td>\n",
       "      <td>Allen, Mr. William Henry</td>\n",
       "      <td>male</td>\n",
       "      <td>35.0</td>\n",
       "      <td>0</td>\n",
       "      <td>0</td>\n",
       "      <td>373450</td>\n",
       "      <td>8.0500</td>\n",
       "      <td>NaN</td>\n",
       "      <td>S</td>\n",
       "    </tr>\n",
       "  </tbody>\n",
       "</table>\n",
       "</div>"
      ],
      "text/plain": [
       "             Pclass                                               Name  \\\n",
       "PassengerId                                                              \n",
       "1                 3                            Braund, Mr. Owen Harris   \n",
       "2                 1  Cumings, Mrs. John Bradley (Florence Briggs Th...   \n",
       "3                 3                             Heikkinen, Miss. Laina   \n",
       "4                 1       Futrelle, Mrs. Jacques Heath (Lily May Peel)   \n",
       "5                 3                           Allen, Mr. William Henry   \n",
       "\n",
       "                Sex   Age  SibSp  Parch            Ticket     Fare Cabin  \\\n",
       "PassengerId                                                                \n",
       "1              male  22.0      1      0         A/5 21171   7.2500   NaN   \n",
       "2            female  38.0      1      0          PC 17599  71.2833   C85   \n",
       "3            female  26.0      0      0  STON/O2. 3101282   7.9250   NaN   \n",
       "4            female  35.0      1      0            113803  53.1000  C123   \n",
       "5              male  35.0      0      0            373450   8.0500   NaN   \n",
       "\n",
       "            Embarked  \n",
       "PassengerId           \n",
       "1                  S  \n",
       "2                  C  \n",
       "3                  S  \n",
       "4                  S  \n",
       "5                  S  "
      ]
     },
     "execution_count": 188,
     "metadata": {},
     "output_type": "execute_result"
    }
   ],
   "source": [
    "import pandas as pd\n",
    "titanic = pd.read_csv('titanic.csv', index_col='PassengerId')\n",
    "features = titanic.drop('Survived', axis=1)\n",
    "target = titanic['Survived']\n",
    "features.head()"
   ]
  },
  {
   "cell_type": "markdown",
   "metadata": {},
   "source": [
    "### 2.数据探索\n",
    "\n",
    "拿到数据后，我们需要看看数据是否是规整的，有哪些属性(feature)，各属性统计特性如何，是否存在偏态分布，是否与目标值相关？可以使用统计描述、绘制直方图、散点图形式来查看特性。"
   ]
  },
  {
   "cell_type": "code",
   "execution_count": 189,
   "metadata": {
    "collapsed": false
   },
   "outputs": [
    {
     "data": {
      "text/html": [
       "<div>\n",
       "<table border=\"1\" class=\"dataframe\">\n",
       "  <thead>\n",
       "    <tr style=\"text-align: right;\">\n",
       "      <th></th>\n",
       "      <th>Pclass</th>\n",
       "      <th>Age</th>\n",
       "      <th>SibSp</th>\n",
       "      <th>Parch</th>\n",
       "      <th>Fare</th>\n",
       "    </tr>\n",
       "  </thead>\n",
       "  <tbody>\n",
       "    <tr>\n",
       "      <th>count</th>\n",
       "      <td>891.000000</td>\n",
       "      <td>714.000000</td>\n",
       "      <td>891.000000</td>\n",
       "      <td>891.000000</td>\n",
       "      <td>891.000000</td>\n",
       "    </tr>\n",
       "    <tr>\n",
       "      <th>mean</th>\n",
       "      <td>2.308642</td>\n",
       "      <td>29.699118</td>\n",
       "      <td>0.523008</td>\n",
       "      <td>0.381594</td>\n",
       "      <td>32.204208</td>\n",
       "    </tr>\n",
       "    <tr>\n",
       "      <th>std</th>\n",
       "      <td>0.836071</td>\n",
       "      <td>14.526497</td>\n",
       "      <td>1.102743</td>\n",
       "      <td>0.806057</td>\n",
       "      <td>49.693429</td>\n",
       "    </tr>\n",
       "    <tr>\n",
       "      <th>min</th>\n",
       "      <td>1.000000</td>\n",
       "      <td>0.420000</td>\n",
       "      <td>0.000000</td>\n",
       "      <td>0.000000</td>\n",
       "      <td>0.000000</td>\n",
       "    </tr>\n",
       "    <tr>\n",
       "      <th>25%</th>\n",
       "      <td>2.000000</td>\n",
       "      <td>NaN</td>\n",
       "      <td>0.000000</td>\n",
       "      <td>0.000000</td>\n",
       "      <td>7.910400</td>\n",
       "    </tr>\n",
       "    <tr>\n",
       "      <th>50%</th>\n",
       "      <td>3.000000</td>\n",
       "      <td>NaN</td>\n",
       "      <td>0.000000</td>\n",
       "      <td>0.000000</td>\n",
       "      <td>14.454200</td>\n",
       "    </tr>\n",
       "    <tr>\n",
       "      <th>75%</th>\n",
       "      <td>3.000000</td>\n",
       "      <td>NaN</td>\n",
       "      <td>1.000000</td>\n",
       "      <td>0.000000</td>\n",
       "      <td>31.000000</td>\n",
       "    </tr>\n",
       "    <tr>\n",
       "      <th>max</th>\n",
       "      <td>3.000000</td>\n",
       "      <td>80.000000</td>\n",
       "      <td>8.000000</td>\n",
       "      <td>6.000000</td>\n",
       "      <td>512.329200</td>\n",
       "    </tr>\n",
       "  </tbody>\n",
       "</table>\n",
       "</div>"
      ],
      "text/plain": [
       "           Pclass         Age       SibSp       Parch        Fare\n",
       "count  891.000000  714.000000  891.000000  891.000000  891.000000\n",
       "mean     2.308642   29.699118    0.523008    0.381594   32.204208\n",
       "std      0.836071   14.526497    1.102743    0.806057   49.693429\n",
       "min      1.000000    0.420000    0.000000    0.000000    0.000000\n",
       "25%      2.000000         NaN    0.000000    0.000000    7.910400\n",
       "50%      3.000000         NaN    0.000000    0.000000   14.454200\n",
       "75%      3.000000         NaN    1.000000    0.000000   31.000000\n",
       "max      3.000000   80.000000    8.000000    6.000000  512.329200"
      ]
     },
     "execution_count": 189,
     "metadata": {},
     "output_type": "execute_result"
    }
   ],
   "source": [
    "#属性统计描述值\n",
    "features.describe()"
   ]
  },
  {
   "cell_type": "code",
   "execution_count": 190,
   "metadata": {
    "collapsed": false
   },
   "outputs": [
    {
     "name": "stdout",
     "output_type": "stream",
     "text": [
      "<class 'pandas.core.frame.DataFrame'>\n",
      "Int64Index: 891 entries, 1 to 891\n",
      "Data columns (total 10 columns):\n",
      "Pclass      891 non-null int64\n",
      "Name        891 non-null object\n",
      "Sex         891 non-null object\n",
      "Age         714 non-null float64\n",
      "SibSp       891 non-null int64\n",
      "Parch       891 non-null int64\n",
      "Ticket      891 non-null object\n",
      "Fare        891 non-null float64\n",
      "Cabin       204 non-null object\n",
      "Embarked    889 non-null object\n",
      "dtypes: float64(2), int64(3), object(5)\n",
      "memory usage: 76.6+ KB\n"
     ]
    }
   ],
   "source": [
    "#属性基本信息，里面有缺失值\n",
    "features.info()"
   ]
  },
  {
   "cell_type": "code",
   "execution_count": 191,
   "metadata": {
    "collapsed": false
   },
   "outputs": [
    {
     "data": {
      "text/plain": [
       "<matplotlib.text.Text at 0x164906a0>"
      ]
     },
     "execution_count": 191,
     "metadata": {},
     "output_type": "execute_result"
    },
    {
     "data": {
      "image/png": "[encoded data removed]",
      "text/plain": [
       "<matplotlib.figure.Figure at 0x160af1d0>"
      ]
     },
     "metadata": {},
     "output_type": "display_data"
    }
   ],
   "source": [
    "from matplotlib import pyplot as plt\n",
    "%matplotlib inline\n",
    "plt.style.use('ggplot')\n",
    "target.value_counts().plot(kind='bar', color='gray')\n",
    "plt.xlabel('Survival Status')\n",
    "plt.title('Passenger Status')"
   ]
  },
  {
   "cell_type": "code",
   "execution_count": 192,
   "metadata": {
    "collapsed": false
   },
   "outputs": [
    {
     "data": {
      "text/plain": [
       "<matplotlib.text.Text at 0x165914a8>"
      ]
     },
     "execution_count": 192,
     "metadata": {},
     "output_type": "execute_result"
    },
    {
     "data": {
      "image/png": "[encoded data removed]",
      "text/plain": [
       "<matplotlib.figure.Figure at 0x164660f0>"
      ]
     },
     "metadata": {},
     "output_type": "display_data"
    }
   ],
   "source": [
    "plt.subplot(1, 2, 1)\n",
    "features['Age'].plot(kind='hist', bins=30)\n",
    "plt.title('Age Histogram')\n",
    "plt.xlabel('Age')\n",
    "plt.subplot(1, 2, 2)\n",
    "features['Fare'].plot(kind='hist', bins=30)\n",
    "plt.title('Fare Histogram')\n",
    "plt.xlabel('Fare')"
   ]
  },
  {
   "cell_type": "code",
   "execution_count": 193,
   "metadata": {
    "collapsed": false
   },
   "outputs": [
    {
     "data": {
      "text/plain": [
       "<matplotlib.text.Text at 0x133d2da0>"
      ]
     },
     "execution_count": 193,
     "metadata": {},
     "output_type": "execute_result"
    },
    {
     "data": {
      "image/png": "[encoded data removed]",
      "text/plain": [
       "<matplotlib.figure.Figure at 0x11a7de80>"
      ]
     },
     "metadata": {},
     "output_type": "display_data"
    }
   ],
   "source": [
    "target.groupby(features['Pclass']).mean().plot(kind='bar')\n",
    "plt.title('Surviving Ratio of Passenger Class')"
   ]
  },
  {
   "cell_type": "markdown",
   "metadata": {},
   "source": [
    "### 3.数据预处理\n",
    "\n",
    "在数据探索基础上，对数据进行处理。比如对属性进行归一化处理、创建新的属性，维数较高可以考虑选取部分属性或者降维。"
   ]
  },
  {
   "cell_type": "code",
   "execution_count": 194,
   "metadata": {
    "collapsed": false
   },
   "outputs": [],
   "source": [
    "#将Pclass转换成字符\n",
    "features['Pclass'] = features['Pclass'].map(lambda x: str(x))\n",
    "#用中位数来填充年纪的缺失值\n",
    "features['Age'] = features['Age'].fillna(method='pad')\n",
    "#去掉属性\n",
    "features = features.drop(['Embarked', 'Cabin', 'Ticket'], axis=1)"
   ]
  },
  {
   "cell_type": "code",
   "execution_count": 195,
   "metadata": {
    "collapsed": false
   },
   "outputs": [],
   "source": [
    "#提取头衔如Mr., Mrs.\n",
    "import re\n",
    "find_title = re.compile(r', (.*\\.) ')\n",
    "def extract_title(name):\n",
    "    title = None\n",
    "    if name:\n",
    "        title = find_title.findall(name)\n",
    "    if title:\n",
    "        return title[0]\n",
    "    return None\n",
    "##find_title.findall(a)\n",
    "features['Name'] = features['Name'].map(extract_title)"
   ]
  },
  {
   "cell_type": "code",
   "execution_count": 202,
   "metadata": {
    "collapsed": false
   },
   "outputs": [
    {
     "data": {
      "text/plain": [
       "Mr.                          517\n",
       "Miss.                        182\n",
       "Mrs.                         124\n",
       "Master.                       40\n",
       "Dr.                            7\n",
       "Rev.                           6\n",
       "Mlle.                          2\n",
       "Major.                         2\n",
       "Col.                           2\n",
       "Jonkheer.                      1\n",
       "Sir.                           1\n",
       "Mrs. Martin (Elizabeth L.      1\n",
       "Don.                           1\n",
       "Capt.                          1\n",
       "the Countess.                  1\n",
       "Ms.                            1\n",
       "Mme.                           1\n",
       "Lady.                          1\n",
       "Name: Name, dtype: int64"
      ]
     },
     "execution_count": 202,
     "metadata": {},
     "output_type": "execute_result"
    }
   ],
   "source": [
    "name_dict = features['Name'].value_counts()\n",
    "name_dict"
   ]
  },
  {
   "cell_type": "code",
   "execution_count": 219,
   "metadata": {
    "collapsed": false
   },
   "outputs": [],
   "source": [
    "title_index = name_dict < 10\n",
    "other_titles = name_dict[title_index].index\n",
    "other_titles = list(other_titles)\n",
    "features['Name'] = features['Name'].replace(other_titles, 'other')"
   ]
  },
  {
   "cell_type": "code",
   "execution_count": 220,
   "metadata": {
    "collapsed": false
   },
   "outputs": [
    {
     "data": {
      "text/plain": [
       "['Dr.',\n",
       " 'Rev.',\n",
       " 'Mlle.',\n",
       " 'Major.',\n",
       " 'Col.',\n",
       " 'Jonkheer.',\n",
       " 'Sir.',\n",
       " 'Mrs. Martin (Elizabeth L.',\n",
       " 'Don.',\n",
       " 'Capt.',\n",
       " 'the Countess.',\n",
       " 'Ms.',\n",
       " 'Mme.',\n",
       " 'Lady.']"
      ]
     },
     "execution_count": 220,
     "metadata": {},
     "output_type": "execute_result"
    }
   ],
   "source": [
    "other_titles"
   ]
  },
  {
   "cell_type": "code",
   "execution_count": 221,
   "metadata": {
    "collapsed": false
   },
   "outputs": [
    {
     "data": {
      "text/html": [
       "<div>\n",
       "<table border=\"1\" class=\"dataframe\">\n",
       "  <thead>\n",
       "    <tr style=\"text-align: right;\">\n",
       "      <th></th>\n",
       "      <th>Pclass</th>\n",
       "      <th>Name</th>\n",
       "      <th>Sex</th>\n",
       "      <th>Age</th>\n",
       "      <th>SibSp</th>\n",
       "      <th>Parch</th>\n",
       "      <th>Fare</th>\n",
       "    </tr>\n",
       "    <tr>\n",
       "      <th>PassengerId</th>\n",
       "      <th></th>\n",
       "      <th></th>\n",
       "      <th></th>\n",
       "      <th></th>\n",
       "      <th></th>\n",
       "      <th></th>\n",
       "      <th></th>\n",
       "    </tr>\n",
       "  </thead>\n",
       "  <tbody>\n",
       "    <tr>\n",
       "      <th>1</th>\n",
       "      <td>3</td>\n",
       "      <td>Mr.</td>\n",
       "      <td>male</td>\n",
       "      <td>22.0</td>\n",
       "      <td>1</td>\n",
       "      <td>0</td>\n",
       "      <td>7.2500</td>\n",
       "    </tr>\n",
       "    <tr>\n",
       "      <th>2</th>\n",
       "      <td>1</td>\n",
       "      <td>Mrs.</td>\n",
       "      <td>female</td>\n",
       "      <td>38.0</td>\n",
       "      <td>1</td>\n",
       "      <td>0</td>\n",
       "      <td>71.2833</td>\n",
       "    </tr>\n",
       "    <tr>\n",
       "      <th>3</th>\n",
       "      <td>3</td>\n",
       "      <td>Miss.</td>\n",
       "      <td>female</td>\n",
       "      <td>26.0</td>\n",
       "      <td>0</td>\n",
       "      <td>0</td>\n",
       "      <td>7.9250</td>\n",
       "    </tr>\n",
       "    <tr>\n",
       "      <th>4</th>\n",
       "      <td>1</td>\n",
       "      <td>Mrs.</td>\n",
       "      <td>female</td>\n",
       "      <td>35.0</td>\n",
       "      <td>1</td>\n",
       "      <td>0</td>\n",
       "      <td>53.1000</td>\n",
       "    </tr>\n",
       "    <tr>\n",
       "      <th>5</th>\n",
       "      <td>3</td>\n",
       "      <td>Mr.</td>\n",
       "      <td>male</td>\n",
       "      <td>35.0</td>\n",
       "      <td>0</td>\n",
       "      <td>0</td>\n",
       "      <td>8.0500</td>\n",
       "    </tr>\n",
       "  </tbody>\n",
       "</table>\n",
       "</div>"
      ],
      "text/plain": [
       "            Pclass   Name     Sex   Age  SibSp  Parch     Fare\n",
       "PassengerId                                                   \n",
       "1                3    Mr.    male  22.0      1      0   7.2500\n",
       "2                1   Mrs.  female  38.0      1      0  71.2833\n",
       "3                3  Miss.  female  26.0      0      0   7.9250\n",
       "4                1   Mrs.  female  35.0      1      0  53.1000\n",
       "5                3    Mr.    male  35.0      0      0   8.0500"
      ]
     },
     "execution_count": 221,
     "metadata": {},
     "output_type": "execute_result"
    }
   ],
   "source": [
    "features.head()"
   ]
  },
  {
   "cell_type": "code",
   "execution_count": 222,
   "metadata": {
    "collapsed": false
   },
   "outputs": [
    {
     "data": {
      "text/html": [
       "<div>\n",
       "<table border=\"1\" class=\"dataframe\">\n",
       "  <thead>\n",
       "    <tr style=\"text-align: right;\">\n",
       "      <th></th>\n",
       "      <th>Age</th>\n",
       "      <th>SibSp</th>\n",
       "      <th>Parch</th>\n",
       "      <th>Fare</th>\n",
       "      <th>Pclass_1</th>\n",
       "      <th>Pclass_2</th>\n",
       "      <th>Pclass_3</th>\n",
       "      <th>Name_Master.</th>\n",
       "      <th>Name_Miss.</th>\n",
       "      <th>Name_Mr.</th>\n",
       "      <th>Name_Mrs.</th>\n",
       "      <th>Name_other</th>\n",
       "      <th>Sex_female</th>\n",
       "      <th>Sex_male</th>\n",
       "    </tr>\n",
       "    <tr>\n",
       "      <th>PassengerId</th>\n",
       "      <th></th>\n",
       "      <th></th>\n",
       "      <th></th>\n",
       "      <th></th>\n",
       "      <th></th>\n",
       "      <th></th>\n",
       "      <th></th>\n",
       "      <th></th>\n",
       "      <th></th>\n",
       "      <th></th>\n",
       "      <th></th>\n",
       "      <th></th>\n",
       "      <th></th>\n",
       "      <th></th>\n",
       "    </tr>\n",
       "  </thead>\n",
       "  <tbody>\n",
       "    <tr>\n",
       "      <th>1</th>\n",
       "      <td>22.0</td>\n",
       "      <td>1</td>\n",
       "      <td>0</td>\n",
       "      <td>7.2500</td>\n",
       "      <td>0.0</td>\n",
       "      <td>0.0</td>\n",
       "      <td>1.0</td>\n",
       "      <td>0.0</td>\n",
       "      <td>0.0</td>\n",
       "      <td>1.0</td>\n",
       "      <td>0.0</td>\n",
       "      <td>0.0</td>\n",
       "      <td>0.0</td>\n",
       "      <td>1.0</td>\n",
       "    </tr>\n",
       "    <tr>\n",
       "      <th>2</th>\n",
       "      <td>38.0</td>\n",
       "      <td>1</td>\n",
       "      <td>0</td>\n",
       "      <td>71.2833</td>\n",
       "      <td>1.0</td>\n",
       "      <td>0.0</td>\n",
       "      <td>0.0</td>\n",
       "      <td>0.0</td>\n",
       "      <td>0.0</td>\n",
       "      <td>0.0</td>\n",
       "      <td>1.0</td>\n",
       "      <td>0.0</td>\n",
       "      <td>1.0</td>\n",
       "      <td>0.0</td>\n",
       "    </tr>\n",
       "    <tr>\n",
       "      <th>3</th>\n",
       "      <td>26.0</td>\n",
       "      <td>0</td>\n",
       "      <td>0</td>\n",
       "      <td>7.9250</td>\n",
       "      <td>0.0</td>\n",
       "      <td>0.0</td>\n",
       "      <td>1.0</td>\n",
       "      <td>0.0</td>\n",
       "      <td>1.0</td>\n",
       "      <td>0.0</td>\n",
       "      <td>0.0</td>\n",
       "      <td>0.0</td>\n",
       "      <td>1.0</td>\n",
       "      <td>0.0</td>\n",
       "    </tr>\n",
       "    <tr>\n",
       "      <th>4</th>\n",
       "      <td>35.0</td>\n",
       "      <td>1</td>\n",
       "      <td>0</td>\n",
       "      <td>53.1000</td>\n",
       "      <td>1.0</td>\n",
       "      <td>0.0</td>\n",
       "      <td>0.0</td>\n",
       "      <td>0.0</td>\n",
       "      <td>0.0</td>\n",
       "      <td>0.0</td>\n",
       "      <td>1.0</td>\n",
       "      <td>0.0</td>\n",
       "      <td>1.0</td>\n",
       "      <td>0.0</td>\n",
       "    </tr>\n",
       "    <tr>\n",
       "      <th>5</th>\n",
       "      <td>35.0</td>\n",
       "      <td>0</td>\n",
       "      <td>0</td>\n",
       "      <td>8.0500</td>\n",
       "      <td>0.0</td>\n",
       "      <td>0.0</td>\n",
       "      <td>1.0</td>\n",
       "      <td>0.0</td>\n",
       "      <td>0.0</td>\n",
       "      <td>1.0</td>\n",
       "      <td>0.0</td>\n",
       "      <td>0.0</td>\n",
       "      <td>0.0</td>\n",
       "      <td>1.0</td>\n",
       "    </tr>\n",
       "  </tbody>\n",
       "</table>\n",
       "</div>"
      ],
      "text/plain": [
       "              Age  SibSp  Parch     Fare  Pclass_1  Pclass_2  Pclass_3  \\\n",
       "PassengerId                                                              \n",
       "1            22.0      1      0   7.2500       0.0       0.0       1.0   \n",
       "2            38.0      1      0  71.2833       1.0       0.0       0.0   \n",
       "3            26.0      0      0   7.9250       0.0       0.0       1.0   \n",
       "4            35.0      1      0  53.1000       1.0       0.0       0.0   \n",
       "5            35.0      0      0   8.0500       0.0       0.0       1.0   \n",
       "\n",
       "             Name_Master.  Name_Miss.  Name_Mr.  Name_Mrs.  Name_other  \\\n",
       "PassengerId                                                              \n",
       "1                     0.0         0.0       1.0        0.0         0.0   \n",
       "2                     0.0         0.0       0.0        1.0         0.0   \n",
       "3                     0.0         1.0       0.0        0.0         0.0   \n",
       "4                     0.0         0.0       0.0        1.0         0.0   \n",
       "5                     0.0         0.0       1.0        0.0         0.0   \n",
       "\n",
       "             Sex_female  Sex_male  \n",
       "PassengerId                        \n",
       "1                   0.0       1.0  \n",
       "2                   1.0       0.0  \n",
       "3                   1.0       0.0  \n",
       "4                   1.0       0.0  \n",
       "5                   0.0       1.0  "
      ]
     },
     "execution_count": 222,
     "metadata": {},
     "output_type": "execute_result"
    }
   ],
   "source": [
    "#将类型属性数值化\n",
    "features = pd.get_dummies(features)\n",
    "features.head()"
   ]
  },
  {
   "cell_type": "markdown",
   "metadata": {},
   "source": [
    "### 4. 模型和指标选择\n",
    "\n",
    "根据问题的类型和数据特点选择适当的指标和模型。上面的是一个监督分类问题，所以我们可以使用决策树、支持矢量机等模型分类。"
   ]
  },
  {
   "cell_type": "code",
   "execution_count": 223,
   "metadata": {
    "collapsed": true
   },
   "outputs": [],
   "source": [
    "feature_train, feature_test, target_train, target_test = train_test_split(features, \n",
    "                                                                          target, test_size=0.3, random_state=1)"
   ]
  },
  {
   "cell_type": "code",
   "execution_count": 260,
   "metadata": {
    "collapsed": false
   },
   "outputs": [
    {
     "data": {
      "text/plain": [
       "DecisionTreeClassifier(class_weight=None, criterion='gini', max_depth=None,\n",
       "            max_features=None, max_leaf_nodes=None,\n",
       "            min_impurity_split=1e-07, min_samples_leaf=1,\n",
       "            min_samples_split=2, min_weight_fraction_leaf=0.0,\n",
       "            presort=False, random_state=1, splitter='best')"
      ]
     },
     "execution_count": 260,
     "metadata": {},
     "output_type": "execute_result"
    }
   ],
   "source": [
    "dt = tree.DecisionTreeClassifier(random_state=1)\n",
    "dt.fit(feature_train, target_train)"
   ]
  },
  {
   "cell_type": "code",
   "execution_count": 264,
   "metadata": {
    "collapsed": false
   },
   "outputs": [
    {
     "data": {
      "text/plain": [
       "0.73880597014925375"
      ]
     },
     "execution_count": 264,
     "metadata": {},
     "output_type": "execute_result"
    }
   ],
   "source": [
    "#测试集上的准确度\n",
    "metrics.accuracy_score(dt.predict(feature_test), target_test)"
   ]
  },
  {
   "cell_type": "code",
   "execution_count": 262,
   "metadata": {
    "collapsed": false
   },
   "outputs": [
    {
     "data": {
      "text/plain": [
       "RandomForestClassifier(bootstrap=True, class_weight=None, criterion='gini',\n",
       "            max_depth=None, max_features='auto', max_leaf_nodes=None,\n",
       "            min_impurity_split=1e-07, min_samples_leaf=1,\n",
       "            min_samples_split=2, min_weight_fraction_leaf=0.0,\n",
       "            n_estimators=10, n_jobs=1, oob_score=False, random_state=1,\n",
       "            verbose=0, warm_start=False)"
      ]
     },
     "execution_count": 262,
     "metadata": {},
     "output_type": "execute_result"
    }
   ],
   "source": [
    "from sklearn.ensemble import RandomForestClassifier\n",
    "rf = RandomForestClassifier(random_state=1)\n",
    "rf.fit(feature_train, target_train)"
   ]
  },
  {
   "cell_type": "code",
   "execution_count": 263,
   "metadata": {
    "collapsed": false
   },
   "outputs": [
    {
     "data": {
      "text/plain": [
       "0.76119402985074625"
      ]
     },
     "execution_count": 263,
     "metadata": {},
     "output_type": "execute_result"
    }
   ],
   "source": [
    "#测试集上的准确度\n",
    "metrics.accuracy_score(rf.predict(feature_test), target_test)"
   ]
  },
  {
   "cell_type": "markdown",
   "metadata": {},
   "source": [
    "### 5.模型优化及验证\n",
    "\n",
    "模型训练完之后并不是终点，我们首先要看看模型指标值是否达到预期目的，尝试不同方法来进一步提升模型表现。如果模型欠拟合，要考虑调整参数、重新选择属性、更换模型；如果过拟合，可以考虑减少模型复杂度，比如去掉一些属性、降低模型复杂度或者采用正则化(regularization)方式。\n",
    "\n",
    "才外，我们还需要检验模型的鲁棒性和泛化能力，测试模型在不同数据集、不同参数复杂度上的表现，看模型是否一如既往地表现稳定。\n",
    "\n",
    "理想的情形是模型训练测试指标值达到最优，比如分类模型能够准确率100%最好，但是很多时候经过艰难的尝试发现最终测试结果可能低于90%。这时候，我们需要找到一个基准值，比如查阅相关资料，如果其他学者在该问题上花费了九牛二虎之力才取得92%的结果，那么即使你取得89%也是比较大的收获。"
   ]
  },
  {
   "cell_type": "code",
   "execution_count": 255,
   "metadata": {
    "collapsed": false
   },
   "outputs": [
    {
     "data": {
      "text/plain": [
       "0.77611940298507465"
      ]
     },
     "execution_count": 255,
     "metadata": {},
     "output_type": "execute_result"
    }
   ],
   "source": [
    "#利用网格搜索来提升分类精度\n",
    "dt = tree.DecisionTreeClassifier(random_state=1)\n",
    "parameters = {'max_depth': range(1, 10)}\n",
    "clf = GridSearchCV(rf, parameters)\n",
    "clf.fit(feature_train, target_train)\n",
    "metrics.accuracy_score(clf.predict(feature_test), target_test)"
   ]
  },
  {
   "cell_type": "code",
   "execution_count": 256,
   "metadata": {
    "collapsed": false
   },
   "outputs": [
    {
     "data": {
      "text/plain": [
       "RandomForestClassifier(bootstrap=True, class_weight=None, criterion='gini',\n",
       "            max_depth=None, max_features='auto', max_leaf_nodes=None,\n",
       "            min_impurity_split=1e-07, min_samples_leaf=1,\n",
       "            min_samples_split=2, min_weight_fraction_leaf=0.0,\n",
       "            n_estimators=10, n_jobs=1, oob_score=False, random_state=1,\n",
       "            verbose=0, warm_start=False)"
      ]
     },
     "execution_count": 256,
     "metadata": {},
     "output_type": "execute_result"
    }
   ],
   "source": [
    "clf.estimator"
   ]
  },
  {
   "cell_type": "raw",
   "metadata": {},
   "source": [
    "from sklearn.model_selection import validation_curve\n",
    "max_depths = range(1, 10)\n",
    "train_scores, test_scores = validation_curve(\n",
    "    rf, X=feature_train, y=target_train, cv=10, scoring=\"accuracy\", param_name='max_depth', param_range=max_depths)"
   ]
  },
  {
   "cell_type": "code",
   "execution_count": 257,
   "metadata": {
    "collapsed": false
   },
   "outputs": [],
   "source": [
    "train_scores_mean = np.mean(train_scores, axis=1)\n",
    "train_scores_std = np.std(train_scores, axis=1)\n",
    "test_scores_mean = np.mean(test_scores, axis=1)\n",
    "test_scores_std = np.std(test_scores, axis=1)"
   ]
  },
  {
   "cell_type": "code",
   "execution_count": 258,
   "metadata": {
    "collapsed": false
   },
   "outputs": [
    {
     "data": {
      "image/png": "[encoded data removed]",
      "text/plain": [
       "<matplotlib.figure.Figure at 0x1856f390>"
      ]
     },
     "metadata": {},
     "output_type": "display_data"
    }
   ],
   "source": [
    "plt.title(\"Validation Curve with Ddecision Tree\")\n",
    "plt.xlabel(\"Max_depth\")\n",
    "plt.ylabel(\"Score\")\n",
    "plt.ylim(0.0, 1.1)\n",
    "lw = 2\n",
    "plt.semilogx(max_depths, train_scores_mean, label=\"Training score\",\n",
    "             color=\"darkorange\", lw=lw)\n",
    "plt.fill_between(max_depths, train_scores_mean - train_scores_std,\n",
    "                 train_scores_mean + train_scores_std, alpha=0.2,\n",
    "                 color=\"darkorange\", lw=lw)\n",
    "plt.semilogx(max_depths, test_scores_mean, label=\"Cross-validation score\",\n",
    "             color=\"navy\", lw=lw)\n",
    "plt.fill_between(max_depths, test_scores_mean - test_scores_std,\n",
    "                 test_scores_mean + test_scores_std, alpha=0.2,\n",
    "                 color=\"navy\", lw=lw)\n",
    "plt.legend(loc=\"best\")\n",
    "plt.show()##画图引用自sklearn官方文档"
   ]
  },
  {
   "cell_type": "markdown",
   "metadata": {},
   "source": [
    "## 五、监督学习的几种模型介绍"
   ]
  },
  {
   "cell_type": "code",
   "execution_count": null,
   "metadata": {
    "collapsed": true
   },
   "outputs": [],
   "source": []
  }
 ],
 "metadata": {
  "anaconda-cloud": {},
  "kernelspec": {
   "display_name": "Python [Root]",
   "language": "python",
   "name": "Python [Root]"
  },
  "language_info": {
   "codemirror_mode": {
    "name": "ipython",
    "version": 2
   },
   "file_extension": ".py",
   "mimetype": "text/x-python",
   "name": "python",
   "nbconvert_exporter": "python",
   "pygments_lexer": "ipython2",
   "version": "2.7.12"
  }
 },
 "nbformat": 4,
 "nbformat_minor": 0
}
